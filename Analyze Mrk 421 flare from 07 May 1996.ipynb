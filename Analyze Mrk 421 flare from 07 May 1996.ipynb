{
 "cells": [
  {
   "cell_type": "markdown",
   "id": "3bdc2584-9a1b-4579-bd90-cda9ba36d1c3",
   "metadata": {},
   "source": [
    "# Analyze Mrk 421 flare from 1996-05-07\n",
    "\n",
    "Example of how to use the Whipple raw data archive to reproduce the analysis of the large flare form the AGN Markarian 421 described by [Gaidos, J.A. et al., Nature **383**, 319 (1996)](https://www.nature.com/articles/383319a0). The notebook\n",
    "\n",
    "- downloads and prints the logsheet from the night to display the comments from the observers\n",
    "- downloads and prints the summary information for the runs\n",
    "- downloads the raw data for the flare, and the flat-fielding calibration run (the *Nitrogen* run)\n",
    "- calculates the pedestal value and sky noise for the night\n",
    "- calculates the gain and flat-fielding correction values\n",
    "- calculates the Hillas parameters for the events\n",
    "- implements a \"Supercuts\" to select gamma-ray events\n",
    "- displays an *alpha plot* to vistalize the excess from the source"
   ]
  },
  {
   "cell_type": "code",
   "execution_count": null,
   "id": "96b72a2f-4e60-4870-973f-768c291e47a6",
   "metadata": {},
   "outputs": [],
   "source": [
    "%matplotlib inline\n",
    "import sys\n",
    "import fzreader\n",
    "import numpy\n",
    "import matplotlib.pyplot"
   ]
  },
  {
   "cell_type": "markdown",
   "id": "422bb4d7-220c-4978-8773-e4ee3339bafa",
   "metadata": {},
   "source": [
    "## Connect to the Whipple archive, either the Harvard dataverse or Zenodo"
   ]
  },
  {
   "cell_type": "code",
   "execution_count": 2,
   "id": "1955dd7b-694e-4588-bdd7-b32bdec5686d",
   "metadata": {},
   "outputs": [
    {
     "name": "stdout",
     "output_type": "stream",
     "text": [
      "[FZDataArchive] Downloading index.json from https://zenodo.org/records/16890876/files/index.json?download=1\n",
      "[FZDataArchive] Downloading raw10_index.csv.xz from https://zenodo.org/records/16890876/files/raw10_index.csv.xz?download=1\n",
      "Archive: Raw data from the Whipple 10m gamma-ray telescope, Mt Hopkins, AZ\n",
      "Provider: Zenodo (10.5281/zenodo.16890876) | Runs: 22772 files / 186.51 GB\n"
     ]
    }
   ],
   "source": [
    "# archive = fzreader.FZDataArchive('harvard', verbose=True)\n",
    "archive = fzreader.FZDataArchive('zenodo', verbose=True)"
   ]
  },
  {
   "cell_type": "markdown",
   "id": "3b472441-1ea8-4c76-9717-6b421f5ec9e2",
   "metadata": {},
   "source": [
    "## Print the logsheet for the night\n",
    "\n",
    "Here you can see the observers started with a Nitrogen calibration run and then switched to Markarian 421, planning to take an *on/off* pair of runs. They started the *off* run and took data for 10 minutes while processing the on-source data using the Quicklook analysis. When they saw the large rate they aborted the *off* run and took *tracking* data on Mrk421 for the rest of the night. The obsrevers report a total significance of >56 sigma on the source using the Quicklook analysis."
   ]
  },
  {
   "cell_type": "code",
   "execution_count": 3,
   "id": "b6af73c4-5761-4485-8d12-b61c9b69a01b",
   "metadata": {},
   "outputs": [
    {
     "name": "stdout",
     "output_type": "stream",
     "text": [
      "[FZDataArchive] Downloading log10_index.csv.xz from https://zenodo.org/records/16890876/files/log10_index.csv.xz?download=1\n",
      "[FZDataArchive] Fetching log10/d19960507.log_10 from log10.tar [702976-704285]\n",
      "UTDATE 960507           10M LOG\n",
      "    10M  \n",
      "ID  RUN   Source     SID     UTC    DUR  MODE  SKY   PNT    Comments\n",
      "N2  5105  Nitrogen  11:08   3:30     2   trk\n",
      "M4  5106  Mrk421    11:12   3:35    28   on     1    Y(1)  PMT 16**\n",
      "M4  5107  Mrk421    11:43   4:05    10   off    1           ditto\n",
      "M4  5108  Mrk421    11:56   4:18    28   trk    1    Y(1)   ditto\n",
      "M4  5109  Mrk421    12:25   4:47    28   trk    1    Y(1)   ditto\n",
      "M4  5110  Mrk421    12:54   5:16    28   trk    1    Y(1)   ditto\n",
      "M4  5111  Mrk421    13:22   5:44     5   trk    1    Y(1)  PMT 16 OK\n",
      "Observer: ##### ##### ##### \n",
      "SKY: Beautiful night - excellent seeing. Welcome to all our visitors\n",
      "Comments:  \n",
      "\n",
      "  Just take a look at 421 folks - we can barely see the stars!\n",
      "\n",
      "  **PMT 16 current <1/2 that in neighbouring tubes.\n",
      "\n",
      "Discriminator Values (mV)\n",
      "\t1: 63.5\t\t\n",
      "\t2: 64.5\t\n",
      "\t3: 61.1\t\n",
      "\t4: 62.6\t\n",
      "\t5: 63.6\t\n",
      "\t6: 62.9\t\n",
      "\n",
      "Quicklook results:\n",
      "MRK421        Sigma       Rate\n",
      "******        *****       ****\n",
      "5106          20.8         5.5\n",
      "5108          25.1         8.3\n",
      "5109          30.3        10.8   GRAND TOTAL   Sigma: 56.2  Rate: 9.5\n",
      "5110          37.7        12.7   ***********   *****        ****\n",
      "5111          13.4        12.1 \n",
      "\n",
      "Data acquisition problems:\n",
      "\n",
      "Note ***Error message at 21:41:33\n",
      "     Large live time difference....17.8s, 11.13 sec, 11.07 sec.\n",
      "\n"
     ]
    }
   ],
   "source": [
    "print(archive.get_logsheet_by_date('19960507'))"
   ]
  },
  {
   "cell_type": "markdown",
   "id": "385fef15-063d-4cc8-b560-2e55b0d06c75",
   "metadata": {},
   "source": [
    "# Make the run list"
   ]
  },
  {
   "cell_type": "code",
   "execution_count": 4,
   "id": "58a2ef8f-d6d4-4e49-8ed2-10bd26fc38ac",
   "metadata": {},
   "outputs": [],
   "source": [
    "n2run = 5105\n",
    "m4runs = [ 5106, 5108, 5109, 5110, 5111 ]"
   ]
  },
  {
   "cell_type": "markdown",
   "id": "f0be4e76-c31e-4e87-bf05-0e64bca6e63f",
   "metadata": {},
   "source": [
    "# Get the run summary information and print some info for the user"
   ]
  },
  {
   "cell_type": "code",
   "execution_count": 5,
   "id": "fff7af23-964e-4a48-b3de-7072ffb48e4d",
   "metadata": {},
   "outputs": [
    {
     "name": "stdout",
     "output_type": "stream",
     "text": [
      "[FZDataArchive] Downloading raw10_run_summary.csv.xz from https://zenodo.org/records/16890876/files/raw10_run_summary.csv.xz?download=1\n"
     ]
    }
   ],
   "source": [
    "run_db = archive.get_run_summary_database_as_dict()"
   ]
  },
  {
   "cell_type": "code",
   "execution_count": 6,
   "id": "13d4803c-4159-4b5c-8109-c207a647e899",
   "metadata": {},
   "outputs": [],
   "source": [
    "n2info = run_db[n2run]\n",
    "m4info = [run_db[r] for r in m4runs]"
   ]
  },
  {
   "cell_type": "code",
   "execution_count": 7,
   "id": "b6a44b59-6533-4314-ae44-188aef5f7046",
   "metadata": {},
   "outputs": [
    {
     "name": "stdout",
     "output_type": "stream",
     "text": [
      "raw10/d19960507/gt005106.fz.xz : el=80.36->83.15, nev=24235, dur=1677 sec\n",
      "raw10/d19960507/gt005108.fz.xz : el=72.73->77.27, nev=24000, dur=1675 sec\n",
      "raw10/d19960507/gt005109.fz.xz : el=66.95->72.22, nev=24600, dur=1675 sec\n",
      "raw10/d19960507/gt005110.fz.xz : el=61.32->66.41, nev=23952, dur=1675 sec\n",
      "raw10/d19960507/gt005111.fz.xz : el=59.98->60.78, nev=4988, dur=334 sec\n"
     ]
    }
   ],
   "source": [
    "for ri in m4info:\n",
    "    print(f'{ri[\"filename\"]} : el={ri[\"el_min\"]}->{ri[\"el_max\"]}, nev={ri[\"nevent\"]}, dur={ri[\"duration\"]} sec')"
   ]
  },
  {
   "cell_type": "markdown",
   "id": "cff180c8-082b-40f6-b3d3-1e1a5f9e4840",
   "metadata": {},
   "source": [
    "# Get the camera geometry\n",
    "\n",
    "We use the `nadc` from the Nitrogen run information to get the correct camera configuration for these runs. We also convert the `x` and `y` elements of the camera from a list to a numpy array (since the base FZ library doesn't assume numpy is present)."
   ]
  },
  {
   "cell_type": "code",
   "execution_count": 8,
   "id": "e9a2cb0f-bda9-453d-b037-85ddbbdddfb1",
   "metadata": {},
   "outputs": [],
   "source": [
    "camera = fzreader.get_camera_geometry_by_nadc(n2info['nadc'])\n",
    "camera['x'] = numpy.asarray(camera['x'])\n",
    "camera['y'] = numpy.asarray(camera['y'])"
   ]
  },
  {
   "cell_type": "markdown",
   "id": "08c3355e-8dc9-4722-936b-9083a375a6db",
   "metadata": {},
   "source": [
    "# Download the data from the archive"
   ]
  },
  {
   "cell_type": "code",
   "execution_count": 9,
   "id": "6230fd7f-ade4-4ec4-9a40-2dafc1b8de11",
   "metadata": {},
   "outputs": [
    {
     "name": "stdout",
     "output_type": "stream",
     "text": [
      "[FZDataArchive] Fetching raw10/d19960507/gt005105.fz.xz from raw10_1995_1996.tar [2488412672-2488798767]\n",
      "[FZDataArchive] Fetching raw10/d19960507/gt005106.fz.xz from raw10_1995_1996.tar [2494007808-2497306435]\n",
      "[FZDataArchive] Fetching raw10/d19960507/gt005108.fz.xz from raw10_1995_1996.tar [2490775552-2494006903]\n",
      "[FZDataArchive] Fetching raw10/d19960507/gt005109.fz.xz from raw10_1995_1996.tar [2497307136-2500600687]\n",
      "[FZDataArchive] Fetching raw10/d19960507/gt005110.fz.xz from raw10_1995_1996.tar [2500601344-2503828979]\n",
      "[FZDataArchive] Fetching raw10/d19960507/gt005111.fz.xz from raw10_1995_1996.tar [2488799744-2489489955]\n"
     ]
    }
   ],
   "source": [
    "n2fz = archive.get_run_by_number(n2run)\n",
    "m4fz = [ archive.get_run_by_number(x) for x in m4runs ]"
   ]
  },
  {
   "cell_type": "markdown",
   "id": "5ff58a75-569b-4b78-a09d-a16da6d10915",
   "metadata": {},
   "source": [
    "# Calculate the pedestals\n",
    "\n",
    "The following function loops through all events to calculate the pedestal mean and RMS. It can be chanined to average over multiple runs.\n",
    "\n",
    "We calculate the pedestals in two passes, the first pass uses all of the periodic *pedestal* events. The second pass filters only events that have less than a 4-sigma fluctuation. In fact, here, this make no difference, but it is prudent."
   ]
  },
  {
   "cell_type": "code",
   "execution_count": 10,
   "id": "48e13537-a2c7-4012-9262-6af57ff5b632",
   "metadata": {},
   "outputs": [],
   "source": [
    "def calc_ped(fz_file, camera=None, nped=0, ped_val=0, ped_rms=0, adc_threshold=numpy.inf, max_nadc_above_adc_threshold=numpy.inf):\n",
    "    # Calculate pedestal mean and rms, allowing chaining of data runs\n",
    "    ped_sum = ped_val*nped\n",
    "    ped_sum_sq = (ped_rms**2 + ped_val**2)*nped\n",
    "    with fzreader.FZReader(fz_file) as fz:\n",
    "        for r in fz:\n",
    "            if fzreader.is_pedestal_event(r):\n",
    "                adc = numpy.asarray(r['adc_values'])\n",
    "                if camera:\n",
    "                    adc = adc[:camera['npix']]\n",
    "                if(numpy.count_nonzero(adc>adc_threshold)>=max_nadc_above_adc_threshold):\n",
    "                    continue\n",
    "                nped += 1\n",
    "                ped_sum = numpy.add(adc, ped_sum)\n",
    "                ped_sum_sq = numpy.add(adc**2, ped_sum_sq)\n",
    "    ped_val = ped_sum/nped\n",
    "    ped_rms = numpy.sqrt(ped_sum_sq/nped - ped_val**2)\n",
    "    return nped, ped_val, ped_rms"
   ]
  },
  {
   "cell_type": "code",
   "execution_count": 11,
   "id": "d8862751-577f-42fa-949d-82d5837e9db1",
   "metadata": {},
   "outputs": [
    {
     "name": "stdout",
     "output_type": "stream",
     "text": [
      "gt005106.fz.xz 1010 26.153665183032064\n",
      "gt005108.fz.xz 2010 25.959030535396412\n",
      "gt005109.fz.xz 3035 25.861810981968773\n",
      "gt005110.fz.xz 4033 25.801151964185376\n",
      "gt005111.fz.xz 4241 25.789362903417707\n"
     ]
    }
   ],
   "source": [
    "nped = 0\n",
    "ped_val_pass1 = 0\n",
    "ped_rms = 0\n",
    "for f in m4fz:\n",
    "    nped, ped_val_pass1, ped_rms = calc_ped(f, camera, nped, ped_val_pass1, ped_rms)\n",
    "    print(f.filename(), nped, numpy.mean(ped_val_pass1))"
   ]
  },
  {
   "cell_type": "code",
   "execution_count": 12,
   "id": "574a0f21-716c-4878-9620-c14d5c858514",
   "metadata": {},
   "outputs": [
    {
     "name": "stdout",
     "output_type": "stream",
     "text": [
      "gt005106.fz.xz 1010 26.153665183032064\n",
      "gt005108.fz.xz 2010 25.959030535396412\n",
      "gt005109.fz.xz 3035 25.861810981968773\n",
      "gt005110.fz.xz 4033 25.801151964185376\n",
      "gt005111.fz.xz 4241 25.789362903417707\n"
     ]
    }
   ],
   "source": [
    "adc_threshold = ped_val_pass1 + ped_rms*4.0\n",
    "nped = 0\n",
    "ped_val = 0\n",
    "ped_rms = 0\n",
    "for f in m4fz:\n",
    "    nped, ped_val, ped_rms = calc_ped(f, camera, nped, ped_val, ped_rms, adc_threshold, 3)\n",
    "    print(f.filename(), nped, numpy.mean(ped_val))"
   ]
  },
  {
   "cell_type": "markdown",
   "id": "28bfd2ca-bece-4c50-9a28-5692daa7ae15",
   "metadata": {},
   "source": [
    "# Calculate the relative gain and the the flat-fielding correction factor"
   ]
  },
  {
   "cell_type": "code",
   "execution_count": 13,
   "id": "ef6439a6-9fa6-4efb-b514-4879dbf14505",
   "metadata": {},
   "outputs": [],
   "source": [
    "def calc_gain(fz_file, ped_val, camera=None, adc_threshold=0, min_nadc_above_adc_threshold=0):\n",
    "    nflash = 0\n",
    "    gain_sum = 0\n",
    "    with fzreader.FZReader(fz_file) as fz:\n",
    "        for r in fz:\n",
    "            if fzreader.is_sky_event(r):\n",
    "                adc = numpy.asarray(r['adc_values'])\n",
    "                if camera:\n",
    "                    adc = adc[:camera['npix']]\n",
    "                adc = adc - ped_val\n",
    "                if(numpy.count_nonzero(adc>adc_threshold)<=min_nadc_above_adc_threshold):\n",
    "                    continue\n",
    "                nflash += 1\n",
    "                mean_adc = numpy.mean(adc)\n",
    "                gain_sum = numpy.add(adc/mean_adc, gain_sum)\n",
    "    gain = gain_sum/nflash\n",
    "    return nflash, gain"
   ]
  },
  {
   "cell_type": "code",
   "execution_count": 14,
   "id": "003bf9d2-4603-4b89-ad03-6be3120e2744",
   "metadata": {},
   "outputs": [
    {
     "name": "stdout",
     "output_type": "stream",
     "text": [
      "gt005105.fz.xz 1836 1.0000000000000002 0.0786697262584971\n",
      "Correcting for mean: 1.0067051017151565\n"
     ]
    }
   ],
   "source": [
    "nflash, rel_gain = calc_gain(n2fz, ped_val, camera, ped_rms*10, 80)\n",
    "print(n2fz.filename(), nflash, numpy.mean(rel_gain), numpy.std(rel_gain))\n",
    "gain_correction_factor = 1/rel_gain\n",
    "print(f'Correcting for mean: {numpy.mean(gain_correction_factor)}')\n",
    "gain_correction_factor /= numpy.mean(gain_correction_factor)"
   ]
  },
  {
   "cell_type": "markdown",
   "id": "07531141-4711-4fb4-8990-6bc10cd56dbd",
   "metadata": {},
   "source": [
    "# Define the function to perform picture-boundary cleaning"
   ]
  },
  {
   "cell_type": "code",
   "execution_count": 15,
   "id": "189ce17a-9580-4033-9e83-fb38fe06e017",
   "metadata": {},
   "outputs": [],
   "source": [
    "def picture_boundary_cleaning(image, rms, picture_thresh, boundary_thresh, camera):\n",
    "    # Step 1: Picture pixels\n",
    "    picture = image > (picture_thresh * rms)\n",
    "    \n",
    "    # Step 2: Boundary candidates\n",
    "    boundary_candidates = image > (boundary_thresh * rms)\n",
    "\n",
    "    # Step 3: Boundary = candidate & has a picture neighbor\n",
    "    boundary = numpy.zeros_like(picture, dtype=bool)\n",
    "    picture_indices = numpy.where(picture)[0]\n",
    "\n",
    "    neighbors = camera['neighbors']\n",
    "    for i in picture_indices:\n",
    "        for n in neighbors[i]:\n",
    "            if boundary_candidates[n]:\n",
    "                boundary[n] = True\n",
    "\n",
    "    mask = picture | boundary\n",
    "    return mask"
   ]
  },
  {
   "cell_type": "markdown",
   "id": "4c503632-b986-4fa9-b163-5729dc0a77c1",
   "metadata": {},
   "source": [
    "# Define a function to calculate the Hillas paraeters\n",
    "\n",
    "This code uses a Python implementation of an [old C++-based Whipple analysis](https://github.com/Whipple10m/Steves_analysis/blob/main/HillasParameterization.cxx), translated by ChatGPT. It may not be the most Python-esque code, but it does reproduce the parameters as they would have been defined in the Whipple era."
   ]
  },
  {
   "cell_type": "code",
   "execution_count": 16,
   "id": "f091c85e-91ab-4b61-97b1-8ff6c9790485",
   "metadata": {},
   "outputs": [],
   "source": [
    "def calc_hillas_parameters(image, mask, gain_correction_factor, camera,\n",
    "                           origin_x=0.0, origin_y=0.0, ZeroTolerance = 1e-12):\n",
    "    \"\"\"\n",
    "    Compute Hillas parameters of a camera image.\n",
    "\n",
    "    Parameters\n",
    "    ----------\n",
    "    image : numpy.ndarray, shape (n,)\n",
    "        Pixel signal values.\n",
    "    mask : numpy.ndarray, shape (n,)\n",
    "        Boolean mask selecting image pixels.\n",
    "    gain_correction_factor : numpy.ndarray, shape (n,)\n",
    "        Gain correction factors (per pixel).\n",
    "    camera : dict\n",
    "        Dictionary with at least 'x' and 'y' arrays of pixel positions.\n",
    "    origin_x, origin_y : float\n",
    "        Optional coordinate shift.\n",
    "\n",
    "    Returns\n",
    "    -------\n",
    "    dict\n",
    "        Hillas parameters.\n",
    "    \"\"\"\n",
    "\n",
    "    # Select & calibrate pixels\n",
    "    x = camera['x'][mask] - origin_x\n",
    "    y = camera['y'][mask] - origin_y\n",
    "    s = image[mask] * gain_correction_factor[mask]\n",
    "    idx = numpy.nonzero(mask)[0]  # original indices of selected pixels\n",
    "\n",
    "    if s.size == 0:\n",
    "        return {\"size\": 0}\n",
    "\n",
    "    # --- max1, max2, max3 ---\n",
    "    order = numpy.argsort(s)[::-1]  # descending\n",
    "    max_vals = s[order[:3]]\n",
    "    locs = idx[order[:3]]\n",
    "    max1, max2, max3 = (max_vals.tolist() + [0, 0, 0])[:3]\n",
    "    loc1, loc2, loc3 = (locs.tolist() + [0, 0, 0])[:3]\n",
    "\n",
    "    # --- weighted sums ---\n",
    "    sumsig = numpy.sum(s)\n",
    "    sumxsig = numpy.sum(s * x)\n",
    "    sumysig = numpy.sum(s * y)\n",
    "    sumx2sig = numpy.sum(s * x * x)\n",
    "    sumy2sig = numpy.sum(s * y * y)\n",
    "    sumxysig = numpy.sum(s * x * y)\n",
    "    sumx3sig = numpy.sum(s * x**3)\n",
    "    sumy3sig = numpy.sum(s * y**3)\n",
    "    sumx2ysig = numpy.sum(s * x**2 * y)\n",
    "    sumxy2sig = numpy.sum(s * x * y**2)\n",
    "\n",
    "    # --- means ---\n",
    "    xmean = sumxsig / sumsig\n",
    "    ymean = sumysig / sumsig\n",
    "    x2mean = sumx2sig / sumsig\n",
    "    y2mean = sumy2sig / sumsig\n",
    "    xymean = sumxysig / sumsig\n",
    "    xmean2 = xmean**2\n",
    "    ymean2 = ymean**2\n",
    "    meanxy = xmean * ymean\n",
    "\n",
    "    # --- variances ---\n",
    "    sdevx2 = x2mean - xmean2\n",
    "    sdevy2 = y2mean - ymean2\n",
    "    sdevxy = xymean - meanxy\n",
    "\n",
    "    # --- centroid distance ---\n",
    "    dist = numpy.sqrt(xmean2 + ymean2)\n",
    "\n",
    "    # --- directional cosines of major axis ---\n",
    "    d = sdevy2 - sdevx2\n",
    "    z = numpy.sqrt(d**2 + 4.0 * sdevxy**2)\n",
    "\n",
    "    if numpy.abs(sdevxy) > ZeroTolerance:\n",
    "        ac = (d + z) * ymean + 2.0 * sdevxy * xmean\n",
    "        bc = 2.0 * sdevxy * ymean - (d - z) * xmean\n",
    "        cc = numpy.sqrt(ac**2 + bc**2)\n",
    "        cospsi, sinpsi = bc / cc, ac / cc\n",
    "    elif z > ZeroTolerance:\n",
    "        cospsi, sinpsi = (1.0, 0.0) if sdevx2 > sdevy2 else (0.0, 1.0)\n",
    "    elif dist > 0:\n",
    "        cospsi = -ymean / dist\n",
    "        sinpsi = numpy.sqrt(max(0.0, 1.0 - cospsi**2))\n",
    "    else:\n",
    "        cospsi, sinpsi = 1.0, 0.0\n",
    "\n",
    "    # --- length and width ---\n",
    "    length2 = (sdevx2 + sdevy2 + z) / 2.0\n",
    "    width2 = (sdevx2 + sdevy2 - z) / 2.0\n",
    "    length = numpy.sqrt(max(0.0, length2))\n",
    "    width = numpy.sqrt(max(0.0, width2))\n",
    "\n",
    "    # --- miss ---\n",
    "    miss = abs(-sinpsi * xmean + cospsi * ymean)\n",
    "    miss = min(miss, dist)\n",
    "\n",
    "    # --- ratios and orientation ---\n",
    "    length_over_size = length / sumsig\n",
    "    sinalpha = miss / dist if dist > ZeroTolerance else 0.0\n",
    "    alpha = abs(numpy.degrees(numpy.arcsin(sinalpha)))\n",
    "\n",
    "    # --- azwidth ---\n",
    "    if width2 > ZeroTolerance:\n",
    "        s2a, c2a = sinalpha**2, 1.0 - sinalpha**2\n",
    "        azfactor = 1.0 + (0.0 if sinalpha == 0 else (length2 - width2) /\n",
    "                          (width2 + length2 * c2a / s2a))\n",
    "        azwidth = width * numpy.sqrt(azfactor)\n",
    "    else:\n",
    "        azwidth = length\n",
    "\n",
    "    # --- asymmetry ---\n",
    "    asymmetry = 0.0\n",
    "    minor_asymmetry = 0.0\n",
    "    if length2 > ZeroTolerance:\n",
    "        x3mean = sumx3sig / sumsig\n",
    "        y3mean = sumy3sig / sumsig\n",
    "        x2ymean = sumx2ysig / sumsig\n",
    "        xy2mean = sumxy2sig / sumsig\n",
    "\n",
    "        sdevx3 = x3mean - 3.0 * xmean * x2mean + 2.0 * xmean**3\n",
    "        sdevy3 = y3mean - 3.0 * ymean * y2mean + 2.0 * ymean**3\n",
    "        sdevx2y = x2ymean - 2.0 * xymean * xmean + 2.0 * xmean2 * ymean - x2mean * ymean\n",
    "        sdevxy2 = xy2mean - 2.0 * xymean * ymean + 2.0 * xmean * ymean2 - xmean * y2mean\n",
    "\n",
    "        cospsi2, sinpsi2 = cospsi**2, sinpsi**2\n",
    "\n",
    "        asymmetry3length3 = (\n",
    "            sdevx3 * cospsi * cospsi2 +\n",
    "            3.0 * sdevx2y * sinpsi * cospsi2 +\n",
    "            3.0 * sdevxy2 * cospsi * sinpsi2 +\n",
    "            sdevy3 * sinpsi * sinpsi2\n",
    "        )\n",
    "        if abs(asymmetry3length3) > ZeroTolerance:\n",
    "            asymmetry = numpy.cbrt(abs(asymmetry3length3)) / length\n",
    "            if asymmetry3length3 < 0:\n",
    "                asymmetry = -asymmetry\n",
    "\n",
    "        if width2 > ZeroTolerance:\n",
    "            minor3 = (\n",
    "                -sdevx3 * sinpsi * sinpsi2 +\n",
    "                3.0 * sdevx2y * cospsi * sinpsi2 -\n",
    "                3.0 * sdevxy2 * sinpsi * cospsi2 +\n",
    "                sdevy3 * cospsi * cospsi2\n",
    "            )\n",
    "            if abs(minor3) > ZeroTolerance:\n",
    "                minor_asymmetry = numpy.cbrt(abs(minor3)) / width\n",
    "                if minor3 < 0:\n",
    "                    minor_asymmetry = -minor_asymmetry\n",
    "\n",
    "    return {\n",
    "        \"size\": sumsig,\n",
    "        \"xc\": xmean,\n",
    "        \"yc\": ymean,\n",
    "        \"dist\": dist,\n",
    "        \"length\": length,\n",
    "        \"width\": width,\n",
    "        \"miss\": miss,\n",
    "        \"length_over_size\": length_over_size,\n",
    "        \"cospsi\": cospsi,\n",
    "        \"sinpsi\": sinpsi,\n",
    "        \"sinalpha\": sinalpha,\n",
    "        \"alpha\": alpha,\n",
    "        \"azwidth\": azwidth,\n",
    "        \"asymmetry\": asymmetry,\n",
    "        \"minor_asymmetry\": minor_asymmetry,\n",
    "        \"max1\": max1,\n",
    "        \"max2\": max2,\n",
    "        \"max3\": max3,\n",
    "        \"loc1\": loc1,\n",
    "        \"loc2\": loc2,\n",
    "        \"loc3\": loc3,\n",
    "    }\n"
   ]
  },
  {
   "cell_type": "markdown",
   "id": "43615123-658e-427f-9fca-87625bacce56",
   "metadata": {},
   "source": [
    "# Supercuts 1995\n",
    "\n",
    "As described by [Quinn, J., et al., ApJ **456** L83 (1996)](https://iopscience.iop.org/article/10.1086/309878) and [Reynolds, P.T., et al., ApJ **404**, 206 (1993)](https://doi.org/10.1086/172269)"
   ]
  },
  {
   "cell_type": "code",
   "execution_count": 17,
   "id": "3f28520f-ebc8-460e-9a5b-dd816d179764",
   "metadata": {},
   "outputs": [],
   "source": [
    "def event_passes_supercuts(hillas):\n",
    "    return (hillas['size']>400 and\n",
    "            hillas['max1']>100 and\n",
    "            hillas['max2']>80 and\n",
    "            0.073<=hillas['width']<=0.250 and\n",
    "            0.160<=hillas['length']<=0.300 and\n",
    "            0.510<=hillas['dist']<=1.000)"
   ]
  },
  {
   "cell_type": "markdown",
   "id": "9cc2c01d-f12e-4beb-b146-2d0068f42b99",
   "metadata": {},
   "source": [
    "# Analyze the images\n",
    "\n",
    "Read the events and\n",
    "- clean the images,\n",
    "- calculate the Hillas parameters,\n",
    "- apply Supercuts, and\n",
    "- calculate the extract the value of *alpha*."
   ]
  },
  {
   "cell_type": "code",
   "execution_count": 18,
   "id": "dacbcde6-3b10-4e7d-aac4-d4f93677d1b4",
   "metadata": {},
   "outputs": [],
   "source": [
    "alpha = []\n",
    "for fzdata in m4fz:\n",
    "    with fzreader.FZReader(fzdata) as fz:\n",
    "        for r in fz:\n",
    "            if fzreader.is_sky_event(r):\n",
    "                adc = numpy.asarray(r['adc_values'])\n",
    "                if camera:\n",
    "                    adc = adc[:camera['npix']]\n",
    "                adc = adc - ped_val\n",
    "                mask = picture_boundary_cleaning(adc, ped_rms, 4.25, 2.25, camera)\n",
    "                hillas = calc_hillas_parameters(adc, mask, gain_correction_factor, camera)\n",
    "                if(event_passes_supercuts(hillas)):\n",
    "                    alpha.append(hillas['alpha'])\n",
    "alpha = numpy.asarray(alpha)                    "
   ]
  },
  {
   "cell_type": "markdown",
   "id": "f50f5177-31a0-44c9-8a61-6e739768bea6",
   "metadata": {},
   "source": [
    "## Draw the alpha plot\n",
    "\n",
    "Mimic the style of the plot in [Gaidos, J.A. et al., Nature **383**, 319 (1996)](https://www.nature.com/articles/383319a0) which used the CERN PAW system."
   ]
  },
  {
   "cell_type": "code",
   "execution_count": 19,
   "id": "6b90274a-1372-4f69-951a-43a0e8e62ba5",
   "metadata": {},
   "outputs": [
    {
     "data": {
      "text/plain": [
       "<matplotlib.collections.LineCollection at 0x7f9fd3f7bd00>"
      ]
     },
     "execution_count": 19,
     "metadata": {},
     "output_type": "execute_result"
    },
    {
     "data": {
      "image/png": "[encoded data removed]",
      "text/plain": [
       "<Figure size 400x800 with 1 Axes>"
      ]
     },
     "metadata": {},
     "output_type": "display_data"
    }
   ],
   "source": [
    "matplotlib.pyplot.figure(figsize=(4,8))\n",
    "hy, hx, hh = matplotlib.pyplot.hist(alpha,numpy.arange(0,90.01,2),lw=1,color='k',histtype='step')\n",
    "matplotlib.pyplot.xlabel('Alpha: $\\\\alpha$ [deg]')\n",
    "matplotlib.pyplot.ylabel('Events per 2 deg bin')\n",
    "matplotlib.pyplot.xlim(0,90)\n",
    "matplotlib.pyplot.minorticks_on()\n",
    "off_lo = 20\n",
    "off_hi = 90\n",
    "noff = numpy.count_nonzero((off_lo<=alpha) & (alpha<=off_hi))/(off_hi-off_lo)*2\n",
    "matplotlib.pyplot.hlines(noff,off_lo,off_hi,ls='--',color='k',lw=1)"
   ]
  },
  {
   "cell_type": "markdown",
   "id": "8b33630d-587c-46ee-bce3-ffcfed0e3eec",
   "metadata": {},
   "source": [
    "# Calculate the significance"
   ]
  },
  {
   "cell_type": "code",
   "execution_count": 20,
   "id": "c9a39205-96ff-45d6-9bf6-3ba99768efc7",
   "metadata": {},
   "outputs": [],
   "source": [
    "def li_and_ma(n_on, n_off, on_off_ratio):\n",
    "    \"\"\"\n",
    "    Compute Li & Ma significance (Eq. 17, ApJ 272, 317, 1983).\n",
    "\n",
    "    Parameters\n",
    "    ----------\n",
    "    n_on : float or int\n",
    "        Number of counts in the ON region.\n",
    "    n_off : float or int\n",
    "        Number of counts in the OFF region.\n",
    "    on_off_ratio : float\n",
    "        Normalization factor (exposure ratio ON/OFF).\n",
    "\n",
    "    Returns\n",
    "    -------\n",
    "    float\n",
    "        Li & Ma significance (signed, positive for excess).\n",
    "    \"\"\"\n",
    "    if n_on <= 0 and n_off <= 0:\n",
    "        return 0.0\n",
    "\n",
    "    n_on = float(n_on)\n",
    "    n_off = float(n_off)\n",
    "    total = n_on + n_off\n",
    "\n",
    "    if total <= 0 or on_off_ratio <= 0:\n",
    "        return 0.0\n",
    "\n",
    "    term1 = 0.0\n",
    "    if n_on > 0:\n",
    "        term1 = n_on * numpy.log((1 + on_off_ratio) / on_off_ratio * (n_on / total))\n",
    "\n",
    "    term2 = 0.0\n",
    "    if n_off > 0:\n",
    "        term2 = n_off * numpy.log((1 + on_off_ratio) * (n_off / total))\n",
    "\n",
    "    significance = numpy.sqrt(2.0 * (term1 + term2))\n",
    "\n",
    "    # Give sign depending on excess or deficit\n",
    "    if n_on < on_off_ratio * n_off:\n",
    "        significance = -significance\n",
    "\n",
    "    return significance\n"
   ]
  },
  {
   "cell_type": "code",
   "execution_count": 21,
   "id": "fd6c493f-28b4-4db2-a1f2-d4b159ad062b",
   "metadata": {},
   "outputs": [
    {
     "name": "stdout",
     "output_type": "stream",
     "text": [
      "Li and Ma significance: 54.40\n"
     ]
    }
   ],
   "source": [
    "on_hi = 10\n",
    "on_off_ratio = on_hi/(off_hi-off_lo)\n",
    "non = numpy.count_nonzero(alpha<on_hi)\n",
    "noff = numpy.count_nonzero((off_lo<=alpha) & (alpha<=off_hi))\n",
    "print(f'Li and Ma significance: {li_and_ma(non, noff, on_off_ratio):.2f}')"
   ]
  },
  {
   "cell_type": "code",
   "execution_count": null,
   "id": "da3effda-f0ef-433e-a993-cf6849b7c6a6",
   "metadata": {},
   "outputs": [],
   "source": []
  }
 ],
 "metadata": {
  "kernelspec": {
   "display_name": "Python 3 (ipykernel)",
   "language": "python",
   "name": "python3"
  },
  "language_info": {
   "codemirror_mode": {
    "name": "ipython",
    "version": 3
   },
   "file_extension": ".py",
   "mimetype": "text/x-python",
   "name": "python",
   "nbconvert_exporter": "python",
   "pygments_lexer": "ipython3",
   "version": "3.10.12"
  }
 },
 "nbformat": 4,
 "nbformat_minor": 5
}
